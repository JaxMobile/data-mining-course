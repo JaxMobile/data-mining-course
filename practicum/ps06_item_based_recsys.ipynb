{
 "cells": [
  {
   "cell_type": "markdown",
   "metadata": {},
   "source": [
    "# Practice PS06: Recommendations engines (interactions-based)"
   ]
  },
  {
   "cell_type": "markdown",
   "metadata": {},
   "source": [
    "For this assignment we will build and apply an item-based and model-based collaborative filtering recommenders for movies. "
   ]
  },
  {
   "cell_type": "markdown",
   "metadata": {},
   "source": [
    "Author: <font color=\"blue\">Your name here</font>\n",
    "\n",
    "E-mail: <font color=\"blue\">Your e-mail here</font>\n",
    "\n",
    "Date: <font color=\"blue\">The current date here</font>"
   ]
  },
  {
   "cell_type": "markdown",
   "metadata": {},
   "source": [
    "# 0. The MovieLens-1M dataset\n",
    "\n",
    "We will use the same dataset as in PS05, the [MovieLens DataSet](https://grouplens.org/datasets/movielens/1m/). This dataset was released in 2003 and most of the movies on it are from the 1980s and 1990s.\n",
    "\n",
    "For details on this, look at the PS05 practice session. Remember the data is contained in three files: `ratings.dat`, `users.dat`, and `movies.dat`.\n",
    "\n",
    "**RATINGS** are contained in `ratings.dat` in the following format: `UserID::MovieID::Rating::Timestamp`\n",
    "\n",
    "**USERS** are described in `users.dat` in the following format: `UserID::Gender::Age::Occupation::Zip-code`\n",
    "\n",
    "**MOVIES** are described in `movies.dat` in the following format: `MovieID::Title::Genres`\n",
    "    \n",
    "<font size=\"-1\" color=\"gray\">(Remove this cell when delivering.)</font>"
   ]
  },
  {
   "cell_type": "markdown",
   "metadata": {},
   "source": [
    "# 0.1. Load the input files"
   ]
  },
  {
   "cell_type": "code",
   "execution_count": null,
   "metadata": {},
   "outputs": [],
   "source": [
    "# Leave this code as-is\n",
    "\n",
    "import numpy as np\n",
    "import pandas as pd \n",
    "import matplotlib.pyplot as plt\n",
    "from math import*\n",
    "from scipy.sparse.linalg import svds\n",
    "from sklearn.metrics.pairwise import linear_kernel"
   ]
  },
  {
   "cell_type": "code",
   "execution_count": null,
   "metadata": {},
   "outputs": [],
   "source": [
    "# Leave this code as-is\n",
    "\n",
    "FILENAME_RATINGS = \"ratings.dat\"\n",
    "FILENAME_USERS = \"users.dat\"\n",
    "FILENAME_MOVIES = \"movies.dat\""
   ]
  },
  {
   "cell_type": "code",
   "execution_count": null,
   "metadata": {},
   "outputs": [],
   "source": [
    "# Leave this code as-is\n",
    "\n",
    "ratings_raw = pd.read_csv(FILENAME_RATINGS, \n",
    "                    sep='::', \n",
    "                    encoding='latin-1',\n",
    "                    engine='python',\n",
    "                    names=['user_id', 'movie_id', 'rating', 'timestamp'])\n",
    "\n",
    "users = pd.read_csv(FILENAME_USERS, \n",
    "                    sep='::', \n",
    "                    engine='python', \n",
    "                    encoding='latin-1',\n",
    "                    names=['user_id', 'gender', 'age', 'occupation', 'zipcode'])\n",
    "_ = users.set_index('user_id')\n",
    "\n",
    "movies = pd.read_csv(FILENAME_MOVIES, \n",
    "                    sep='::', \n",
    "                    engine='python', \n",
    "                    encoding='latin-1',\n",
    "                    names=['movie_id', 'title', 'genres'])\n",
    "_ = movies.set_index('movie_id')"
   ]
  },
  {
   "cell_type": "markdown",
   "metadata": {},
   "source": [
    "# 0.2. Merge the data into a single dataframe"
   ]
  },
  {
   "cell_type": "markdown",
   "metadata": {},
   "source": [
    "Join the data into a single dataframe that should contain columns: user_id, movie_id, rating, timestamp, gender, age, occupation, zipcode, title, genres\n",
    "\n",
    "<font size=\"-1\" color=\"gray\">(Remove this cell when delivering.)</font>"
   ]
  },
  {
   "cell_type": "markdown",
   "metadata": {},
   "source": [
    "<font size=\"+1\" color=\"red\">Replace this cell with your code from the previous practice that joined these three dataframes using \"merge\" into a single dataframe named \"ratings\". Print the first 5 rows of the resulting dataframe.</font>"
   ]
  },
  {
   "cell_type": "markdown",
   "metadata": {},
   "source": [
    "<font size=\"+1\" color=\"red\">Replace this cell with your code from the previous practice for \"find_movies\" that list movies containing a keyword</font>"
   ]
  },
  {
   "cell_type": "markdown",
   "metadata": {},
   "source": [
    "# 1. Exploratory Data Analysis"
   ]
  },
  {
   "cell_type": "markdown",
   "metadata": {},
   "source": [
    "First we continue exploring this dataset to learn more about it. This complements the data exploration tasks we did in the previous practice.\n",
    "\n",
    "<font size=\"-1\" color=\"gray\">(Remove this cell when delivering.)</font>"
   ]
  },
  {
   "cell_type": "markdown",
   "metadata": {},
   "source": [
    "## 1.1. Unique registers"
   ]
  },
  {
   "cell_type": "markdown",
   "metadata": {},
   "source": [
    "Count the number of unique users and unique movies in the `ratings` variable. Use [unique()](https://pandas.pydata.org/pandas-docs/stable/reference/api/pandas.unique.html). Your code should print:\n",
    "\n",
    "```\n",
    "Number of users  : 6040\n",
    "Number of movies : 3706\n",
    "```\n",
    "\n",
    "<font size=\"-1\" color=\"gray\">(Remove this cell when delivering.)</font>"
   ]
  },
  {
   "cell_type": "markdown",
   "metadata": {},
   "source": [
    "<font size=\"+1\" color=\"red\">Replace this cell with your own code to indicate the number of unique users and unique movies in the \"ratings\" variable.</font>"
   ]
  },
  {
   "cell_type": "markdown",
   "metadata": {},
   "source": [
    "## 1.2. Age differences in ratings"
   ]
  },
  {
   "cell_type": "markdown",
   "metadata": {},
   "source": [
    "Now let's look at whether people of different age rate movies differently. In this dataset the `age` column actually represents a range of ages:\n",
    "\n",
    "\t*  1:  \"Under 18\"\n",
    "\t* 18:  \"18-24\"\n",
    "\t* 25:  \"25-34\"\n",
    "\t* 35:  \"35-44\"\n",
    "\t* 45:  \"45-49\"\n",
    "\t* 50:  \"50-55\"\n",
    "\t* 56:  \"56+\"\n",
    "\n",
    "Create a [boxplot](https://matplotlib.org/stable/api/_as_gen/matplotlib.pyplot.boxplot.html) in which in the x axis you have the age buckets and in the y axis the distribution of ratings. \n",
    "\n",
    "<font size=\"-1\" color=\"gray\">(Remove this cell when delivering.)</font>"
   ]
  },
  {
   "cell_type": "markdown",
   "metadata": {},
   "source": [
    "<font size=\"+1\" color=\"red\">Replace this cell with your own code to create a boxplot of the ratings distribution for each age group. Remember to include labels in the x and y axis. The label for the x axis must indicate each *range* (e.g., 18-24).</font>"
   ]
  },
  {
   "cell_type": "markdown",
   "metadata": {},
   "source": [
    "<font size=\"+1\" color=\"red\">Replace this cell with a brief commentary on what you observe on the distributions above. Can you guess a possible explanation for this?</font>"
   ]
  },
  {
   "cell_type": "markdown",
   "metadata": {},
   "source": [
    "Plot the total number of ratings received from each age group.\n",
    "\n",
    "First, use [numpy.histogram](https://numpy.org/doc/stable/reference/generated/numpy.histogram.html) to count the ratings from each age group. For this, you will need an array with the bins, plus one additional element to be the upper limit of the last bin (use \"9999\", for instance).\n",
    "\n",
    "Then, create a [bar plot](https://matplotlib.org/stable/api/_as_gen/matplotlib.pyplot.bar.html) in which in the x axis you have the age buckets, correctly labeled (e.g., \"18-24\") and in the y axis the number of ratings from that age group. For this, you will need an array with the bin labels.\n",
    "\n",
    "<font size=\"-1\" color=\"gray\">(Remove this cell when delivering.)</font>"
   ]
  },
  {
   "cell_type": "markdown",
   "metadata": {},
   "source": [
    "<font size=\"+1\" color=\"red\">Replace this cell with your code to create a bar plot of the number of ratings for each age group. Remember to correctly label the x and y axes.</font>"
   ]
  },
  {
   "cell_type": "markdown",
   "metadata": {},
   "source": [
    "# 2. Item-based Collaborative Filtering"
   ]
  },
  {
   "cell_type": "markdown",
   "metadata": {},
   "source": [
    "The two main types of interactions-based recommender system, also known as *collaborative filtering* algorithms are:\n",
    "\n",
    "1. **User-based Collaborative Filtering**: To recommend items for user A, we first look at other users B1, B2, ..., Bk with a similar behavior to A, and aggregate their preferences. For instance, if all Bi like a movie that A has not watched, it would be a good candidate to be recommended. \n",
    "\n",
    "\n",
    "2. **Item-based Collaborative Filtering**: To recommend items for user A, we first look at all the items I1, I2, ..., Ik that the user A has consumed, and find items that elicit similar ratings from other users. For instnce, an item that is rated positively by the same users that rate positively the Ii items, and negatively by the same users that rate negatively the Ii items, would be a good candidate to be recommended.\n",
    "\n",
    "In both cases, a similarity matrix needs to be built. For user-based, the **user-similarity matrix** will consist of some **distance metrics** that measure the similarity between any two pairs of users. For item-based, the **matrix** will measure the similarity between any two pairs of items.\n",
    "\n",
    "As we already know, there are several metrics strategy for measure the \"similarity\" of two items. Some of the most used metrics are Jaccard, Cosine and Pearson. Meanwhile, Jaccard similarity is based on the number of users which have rated item A and B divided by the number of users who have rated either A or B (very useful for those use cases where there is not a numeric rating but just a boolean value like a product being bought), in Pearson and Cosine similarities we measure the similarity between two vectors.\n",
    "\n",
    "For the purpose of this assignment, we will use **Pearson Similarity** and we will implement a **Item-based Collaborative filtering**.\n",
    "\n",
    "<font size=\"-1\" color=\"gray\">(Remove this cell when delivering.)</font>"
   ]
  },
  {
   "cell_type": "markdown",
   "metadata": {},
   "source": [
    "## 2.1. Data pre-processing"
   ]
  },
  {
   "cell_type": "markdown",
   "metadata": {},
   "source": [
    "Firstly, create a new dataset \"rated_movies\" that [merges](https://pandas.pydata.org/pandas-docs/stable/reference/api/pandas.DataFrame.merge.html) `ratings_raw` and `movies` on the **movie_id** variable. [Drop](https://pandas.pydata.org/pandas-docs/stable/reference/api/pandas.DataFrame.drop.html) from this the columns we do not need: *genres* and *timestamp*. Print the first 5 rows of this new dataframe.\n",
    "\n",
    "<font size=\"-1\" color=\"gray\">(Remove this cell when delivering.)</font>"
   ]
  },
  {
   "cell_type": "markdown",
   "metadata": {},
   "source": [
    "<font size=\"+1\" color=\"red\">Replace this cell with your code to generate \"rated_movies\" and print the first five rows. This should have columns user_id, movie_id, rating, title</font>"
   ]
  },
  {
   "cell_type": "markdown",
   "metadata": {},
   "source": [
    "Now, using the `rated_movies` dataframe, create a new dataframe named `ratings_summary` containing the following columns:\n",
    "\n",
    "* movie_id\n",
    "* title\n",
    "* ratings_mean (average rating)\n",
    "* ratings_count (number of people who have rated this movie)\n",
    "\n",
    "You can use the following operations:\n",
    "\n",
    "* Initialize `ratings_summary` to be only the movie_id and title of all movies in `rated_movies`\n",
    "   * To group dataframe `df` by column `a` and keep only one unique row per value of `a`, use: `df.groupby('a').first()`\n",
    "* Compute two series: `ratings_mean` and `ratings_count`:\n",
    "   * To obtain a series with the average of column `a` for each distinct value of column `b` in dataframe `df`, use: `df.groupby(b)['a'].mean()`\n",
    "   * To obtain a series with the count of column `a` for each distinct value of column `b` in dataframe `df`, use: `df.groupby(b)['a'].count()`\n",
    "* Add these series to the `ratings_summary`\n",
    "   * To add a series `s` with column name `a` to dataframe `df`, use: `df['a'] = s`\n",
    "    \n",
    "<font size=\"-1\" color=\"gray\">(Remove this cell when delivering.)</font>"
   ]
  },
  {
   "cell_type": "markdown",
   "metadata": {},
   "source": [
    "<font size=\"+1\" color=\"red\">Replace this cell with your code to generate \"ratings_summary\"</font>"
   ]
  },
  {
   "cell_type": "markdown",
   "metadata": {},
   "source": [
    "<font size=\"+1\" color=\"red\">Replace this cell with code to print the top 10 highest rated movies, considering only movies receiving at least 1000 ratings.</font>\n",
    "\n",
    "<font size=\"-1\" color=\"gray\">If you have not watched any of the movies on this list, please take a moment to reflect about your life's choices :-)</font>"
   ]
  },
  {
   "cell_type": "markdown",
   "metadata": {},
   "source": [
    "<font size=\"+1\" color=\"red\">Repeat this, but this time consider movies receiving at least 3 ratings. What is the difference? How would you explain this?</font>"
   ]
  },
  {
   "cell_type": "markdown",
   "metadata": {},
   "source": [
    "## 2.2. Compute the user-movie matrix"
   ]
  },
  {
   "cell_type": "markdown",
   "metadata": {},
   "source": [
    "Before calculating the **similarity matrix**, we create a table where columns are movies and rows are users, and each movie-user cell contains the score of that user for that movie.\n",
    "\n",
    "We will use the [pivot_table](https://pandas.pydata.org/pandas-docs/stable/reference/api/pandas.pivot_table.html) function of Pandas. If you have a dataframe D containing:\n",
    "\n",
    "```\n",
    "U V W\n",
    "1 a 3.0\n",
    "1 b 2.0\n",
    "2 a 1.0\n",
    "2 c 4.0\n",
    "```\n",
    "\n",
    "Calling `D.pivot_table(index='U', columns='V', values='W')` will create the following:\n",
    "\n",
    "```\n",
    "V  a   b   c\n",
    "U\n",
    "1 3.0 2.0 NaN\n",
    "2 1.0 NaN 4.0\n",
    "```\n",
    "\n",
    "<font size=\"-1\" color=\"gray\">(Remove this cell when delivering.)</font>"
   ]
  },
  {
   "cell_type": "markdown",
   "metadata": {},
   "source": [
    "<font size=\"+1\" color=\"red\">Replace this cell with code to generate a \"user_movie\" matrix by calling \"pivot_table\" on \"rated_movies\". Print the first 10 rows.</font>"
   ]
  },
  {
   "cell_type": "markdown",
   "metadata": {},
   "source": [
    "<font size=\"+1\" color=\"red\">Replace this a brief commentary indicating why do you think the \"user_movie\" matrix has so many \"NaN\" values. How do we call this characteristic of user ratings in recommender systems?</font>"
   ]
  },
  {
   "cell_type": "markdown",
   "metadata": {},
   "source": [
    "# 2.3. Explore some correlations in the user-movie matrix"
   ]
  },
  {
   "cell_type": "markdown",
   "metadata": {},
   "source": [
    "Now let us explore whether correlations in this matrix make sense.\n",
    "\n",
    "Locate the movie_id for [Alien (1979)](https://en.wikipedia.org/wiki/Alien_(film)) (a science-fiction horror film), [Planet of the Apes (1968)](https://en.wikipedia.org/wiki/Planet_of_the_Apes_(1968_film)) (a science fiction film), and [Home Alone (1990)](https://en.wikipedia.org/wiki/Home_Alone) (a comedy film) using the `find_movies` function you defined above.\n",
    "\n",
    "Now, obtain the ratings for each of these movies: `user_movie[movie_id].dropna()`. You will obtain a series for each movie.\n",
    "\n",
    "Now, consolidate these four series into a single dataframe: `ratings3 = pd.concat([s1, s2, s3], axis=1)`\n",
    "\n",
    "Drop from `ratings3` all rows containing a *NaN*. This will keep only users that have rated the 3 movies.\n",
    "\n",
    "Display the first 10 rows from this table.\n",
    "\n",
    "<font size=\"-1\" color=\"gray\">(Remove this cell when delivering.)</font>"
   ]
  },
  {
   "cell_type": "markdown",
   "metadata": {},
   "source": [
    "<font size=\"+1\" color=\"red\">Replace this cell with code to compute and diplay the first 10 rows of the \"ratings3\" table as described above.</font>"
   ]
  },
  {
   "cell_type": "markdown",
   "metadata": {},
   "source": [
    "To compute Pearson correlation, we use the [corr](https://pandas.pydata.org/pandas-docs/stable/reference/api/pandas.Series.corr.html) method.\n",
    "\n",
    "To compute the correlation between two columns `a`, `b` in dataframe `df`, we use: `df[a].corr(df[b])`.\n",
    "\n",
    "Compute the correlations between all pairs of columns of the `ratings3` table. You should display:\n",
    "\n",
    "```\n",
    "Similarity between 'Alien (1979)' and 'Planet of the Apes (1968)': 0.31\n",
    "Similarity between 'Alien (1979)' and 'Home Alone (1990)': 0.06\n",
    "Similarity between 'Planet of the Apes (1968)' and 'Home Alone (1990)': 0.24\n",
    "```\n",
    "\n",
    "<font size=\"-1\" color=\"gray\">(Remove this cell when delivering.)</font>"
   ]
  },
  {
   "cell_type": "markdown",
   "metadata": {},
   "source": [
    "<font size=\"+1\" color=\"red\">Replace this cell with code to compute all correlations between these three movies, as described above.</font>"
   ]
  },
  {
   "cell_type": "markdown",
   "metadata": {},
   "source": [
    "<font size=\"+1\" color=\"red\">Replace this cell with a brief commentary on the correlations you find.</font>"
   ]
  },
  {
   "cell_type": "markdown",
   "metadata": {},
   "source": [
    "Now let us take one of these movies [Alien (1979)](https://en.wikipedia.org/wiki/Alien_(film)), the science fiction classic. Select the column corresponding to this movie in `user_movies` and compute its correlation with all other columns in `user_movies`. This can be done with  [corrwith](https://pandas.pydata.org/pandas-docs/stable/reference/api/pandas.DataFrame.corrwith.html). You might receive a runtime warning on degrees of freedom and/or division by zero, which you can safely ignore.\n",
    "\n",
    "<font size=\"-1\" color=\"gray\">(Remove this cell when delivering.)</font>"
   ]
  },
  {
   "cell_type": "markdown",
   "metadata": {},
   "source": [
    "<font size=\"+1\" color=\"red\">Replace this cell with code to create a \"similar_to_alien\" (for short) series that contains the computed correlations, droping the NaNs in the series.</font>"
   ]
  },
  {
   "cell_type": "markdown",
   "metadata": {},
   "source": [
    "Next, create a dataframe `corr_with_pivot` by using `similar_to_pivot` and `ratings_summary`. This dataframe should have the following columns:\n",
    "\n",
    "* corr - the correlation between each movie and the selected movie\n",
    "* title\n",
    "* ratings_mean\n",
    "* ratings_count\n",
    "\n",
    "To create a dataframe `df` from a series `s`, use: `df = pd.DataFrame(s, columns=['colname'])`. \n",
    "\n",
    "Keep only rows in which *ratings_count* > 500, i.e., popular movies. To filter a dataframe `df` and keep only rows having column `c` larger than `x`, use `df[df[c] > x]`.\n",
    "\n",
    "Display the top 10 rows with the largest correlation. To select the largest `n` rows from dataframe `df` according to column `c`, use `df.sort_values(c, ascending=False).head(n)`. \n",
    "\n",
    "<font size=\"-1\" color=\"gray\">(Remove this cell when delivering.)</font>"
   ]
  },
  {
   "cell_type": "markdown",
   "metadata": {},
   "source": [
    "<font size=\"+1\" color=\"red\">Replace this cell with code to create a \"corr_with_alien\" (for short) dataframe as specified above, and to print the 10 movies (rated 500 times or more) with the highest correlation with the selected movie.</font>"
   ]
  },
  {
   "cell_type": "markdown",
   "metadata": {},
   "source": [
    "<font size=\"+1\" color=\"red\">Replace this cell with a brief commentary about the movies you see on this list. Try removing the limit of *ratings_count > 500* and re-computing, what happens? Why? What happens if you set it to 100 or 200?</font>"
   ]
  },
  {
   "cell_type": "markdown",
   "metadata": {},
   "source": [
    "# 2.4. Implement the item-based recommendations"
   ]
  },
  {
   "cell_type": "markdown",
   "metadata": {},
   "source": [
    "Now that we believe that this type of correlation sort of makes sense, let us implement the item-based recommender. We need all correlations between columns in `user_movie`. To compute all correlations between columns in a dataframe, use [corr](https://pandas.pydata.org/pandas-docs/stable/reference/api/pandas.DataFrame.corr.html).\n",
    "\n",
    "**This process may take a few minutes.** Print the first 5 rows of the resulting matrix when done.\n",
    "\n",
    "<font size=\"-1\" color=\"gray\">(Remove this cell when delivering.)</font>"
   ]
  },
  {
   "cell_type": "markdown",
   "metadata": {},
   "source": [
    "<font size=\"+1\" color=\"red\">Replace this cell with your code to compute all correlations between columns (movies) in the matrix user_movie. Store this in \"item_similarity\", and print the first 5 rows.</font>"
   ]
  },
  {
   "cell_type": "markdown",
   "metadata": {},
   "source": [
    "Similarities between movies that do not have many ratings in common are unreliable. Fortunately, the `corr` method includes a parameter `min_periods` that establishes a minimum number of elements in common that two columns must have to compute the correlation.\n",
    "\n",
    "Re-generate item_similarity setting min_periods to 100.\n",
    "\n",
    "This process will also take a few minutes. Print the first 5 rows of the resulting matrix when done.\n",
    "\n",
    "<font size=\"-1\" color=\"gray\">(Remove this cell when delivering.)</font>"
   ]
  },
  {
   "cell_type": "markdown",
   "metadata": {},
   "source": [
    "<font size=\"+1\" color=\"red\">Replace this cell with your code to compute all correlations between columns (movies) in the matrix user_movie, but considering only movies having at least 100 ratings in common. Store this in \"item_similarity_min_ratings\"</font>"
   ]
  },
  {
   "cell_type": "markdown",
   "metadata": {},
   "source": [
    "We will need to test our function so let us select a couple of interesting users.\n",
    "\n",
    "Our first user, `user_id_rom` will be someone who has given the following 3 films a rating of 4.0 or higher:\n",
    "\n",
    "* movie_id=587: *Ghost (1990)*\n",
    "* movie_id=1088: *Dirty Dancing (1987)*\n",
    "* movie_id=3257: *The Bodyguard (1992)* \t\n",
    "\n",
    "Our second user, `user_id_sci` will be someone who has given the following 3 films a rating of 4.0 or higher:\n",
    "\n",
    "* movie_id=1214: *Alien (1979)*\n",
    "* movie_id=3527: *Predator (1987)*\n",
    "* movie_id=260: *Star Wars (1977)*\n",
    "\n",
    "To filter a dataframe by multiple conditions you can use, e.g., `df[(a > 1) & (b > 2)]`. \n",
    "\n",
    "**Important**: these particular users have watched lots of movies, so we cannot tell for sure they have only these interests.\n",
    "\n",
    "<font size=\"-1\" color=\"gray\">(Remove this cell when delivering.)</font>"
   ]
  },
  {
   "cell_type": "markdown",
   "metadata": {},
   "source": [
    "<font size=\"+1\" color=\"red\">Replace this cell with your code to find two example users (one who liked the three romantic films, and another one who liked the three science fiction films), save their userids in variables \"user_id_rom\" and \"user_id_sci\"</font>"
   ]
  },
  {
   "cell_type": "markdown",
   "metadata": {},
   "source": [
    "We will need some auxiliary functions that are provided below. You can leave as-is.\n",
    "\n",
    "<font size=\"-1\" color=\"gray\">(Remove this cell when delivering.)</font>"
   ]
  },
  {
   "cell_type": "code",
   "execution_count": null,
   "metadata": {},
   "outputs": [],
   "source": [
    "# Leave this code as-is\n",
    "\n",
    "# Gets a list of watched movies for a user_id\n",
    "def get_watched_movies(user_id, user_movie):\n",
    "    return list(user_movie.loc[user_id].dropna().index)\n",
    "    \n",
    "# Gets the title of a movie by movie_id\n",
    "def get_title(movie_id, movies):\n",
    "    return movies[movies['movie_id'] == movie_id].title.iloc[0]\n",
    "\n",
    "# Gets the rating a user_id has given to a movie_id\n",
    "def get_rating(user_id, movie_id, user_movie):\n",
    "    return user_movie[movie_id][user_id]\n",
    "\n",
    "# Print watched movies\n",
    "def print_watched_movies(user_id, user_movie, movies):\n",
    "    for movie_id in get_watched_movies(user_id, user_movie):\n",
    "        print(\"%d %.1f %s \" %\n",
    "          (movie_id, get_rating(user_id, movie_id, user_movie), get_title(movie_id, movies)))\n",
    "\n",
    "# Test functions\n",
    "print_watched_movies(user_id_rom, user_movie, movies)"
   ]
  },
  {
   "cell_type": "markdown",
   "metadata": {},
   "source": [
    "For every user, we will consider that the importance of a new movie (a movie s/he has not rated) will be equal to the sum of the similarities between that new movie and all the movies the user has already rated.\n",
    "\n",
    "Indeed, to further improve this, we will compute a weighted sum, in which the weight will be the rating given to the movie.\n",
    "\n",
    "For instance, suppose a user has rated movies as follows:\n",
    "\n",
    "```\n",
    "movie_id rating\n",
    "1        2.0\n",
    "2        3.0\n",
    "3        NaN\n",
    "4        NaN\n",
    "```\n",
    "\n",
    "And that movie similarities are as follows (values with a \".\" do not matter in this example):\n",
    "\n",
    "```\n",
    "movie_id   1   2   3   4\n",
    "1         ...............\n",
    "2         ...............\n",
    "3         0.1 0.2 NaN ...\n",
    "4         0.9 0.8 ... NaN\n",
    "```\n",
    "\n",
    "The importance of movie 3 to this user will be:\n",
    "\n",
    "```\n",
    "2.0 * 0.1 + 3.0 * 0.2 = 0.8\n",
    "```\n",
    "\n",
    "While the importance of movie 4 to this user will be:\n",
    "\n",
    "```\n",
    "2.0 * 0.9 + 3.0 + 0.8 = 5.6\n",
    "```\n",
    "\n",
    "As we can see, we are favoring movies that are highly similar to many movies that the user has rated high.\n",
    "\n",
    "<font size=\"-1\" color=\"gray\">(Remove this cell when delivering.)</font>"
   ]
  },
  {
   "cell_type": "markdown",
   "metadata": {},
   "source": [
    "Create a function `get_movies_relevance` that returns a dataframe with columns `movie_id` and `relevance`. You can use the following template:\n",
    "\n",
    "```python\n",
    "def get_movies_relevance(user_id, user_movie, item_similarity_matrix):\n",
    "    \n",
    "    # Create an empty series\n",
    "    movies_relevance = ...\n",
    "    \n",
    "    # Iterate through the movies the user has watched\n",
    "    for watched_movie in ...\n",
    "        \n",
    "        # Obtain the rating given\n",
    "        rating_given = ...\n",
    "        \n",
    "        # Obtain the vector containing the similarities of watched_movie\n",
    "        # with all other movies in item_similarity_matrix\n",
    "        similarities = ...\n",
    "        \n",
    "        # Multiply this vector by the given rating\n",
    "        weighted_similarities = ...\n",
    "        \n",
    "        # Append these terms to movies_relevance\n",
    "        movies_relevance = movies_relevance.append(weighted_similarities)\n",
    "    \n",
    "    # Compute the sum for each movie\n",
    "    movies_relevance = movies_relevance.groupby(movies_relevance.index).sum()\n",
    "    \n",
    "    # Convert to a dataframe\n",
    "    movies_relevance_df = pd.DataFrame(movies_relevance, columns=['relevance'])\n",
    "    movies_relevance_df['movie_id'] = movies_relevance_df.index\n",
    "    \n",
    "    return movies_relevance_df\n",
    "\n",
    "```\n",
    "\n",
    "<font size=\"-1\" color=\"gray\">(Remove this cell when delivering.)</font>"
   ]
  },
  {
   "cell_type": "markdown",
   "metadata": {},
   "source": [
    "<font size=\"+1\" color=\"red\">Replace this cell with your code for \"get_movies_relevance\"</font>"
   ]
  },
  {
   "cell_type": "markdown",
   "metadata": {},
   "source": [
    "Apply `get_movies_relevance` to the two users we have selected, `user_id_rom` and `user_id_sci`.\n",
    "\n",
    "The result will contain only `movie_id` and `relevance`, you will have to merge with the `movies` dataframe on the `movie_id` attribute.\n",
    "\n",
    "Sort the results by descending relevance and print the top 10 for each case.\n",
    "\n",
    "Verify your result is correct: among the most relevant for `user_id_rom` you should see *[Sister Act (1992)](https://en.wikipedia.org/wiki/Sister_Act)*; and among the most relevant for `user_id_sci` you should see *[Lethal Weapon (1987)](https://en.wikipedia.org/wiki/Lethal_Weapon)*.\n",
    "\n",
    "<font size=\"-1\" color=\"gray\">(Remove this cell when delivering.)</font>"
   ]
  },
  {
   "cell_type": "markdown",
   "metadata": {},
   "source": [
    "<font size=\"+1\" color=\"red\">Replace this cell with your code to obtain the 10 most relevant movies for the users user_id_rom and user_id_sci</font>"
   ]
  },
  {
   "cell_type": "markdown",
   "metadata": {},
   "source": [
    "<font size=\"+1\" color=\"red\">Replace this cell with a brief commentary on the movies you see on these lists. How many of them look relevant for the intended users? Feel free to use IMDB or Wikipedia to get info on these movies.</font>\n",
    "\n",
    "<font size=\"-1\" color=\"gray\">All those trivial facts you learned about 1980s and 1990s pop culture were supposed to be useful one day; that day has arrived :-)</font>"
   ]
  },
  {
   "cell_type": "markdown",
   "metadata": {},
   "source": [
    "Finally, you only need to remove the movies the user has watched. To do so:\n",
    "\n",
    "* Obtain the dataframe of relevant movies with `get_movies_relevance`\n",
    "* Set this dataframe index to 'movie_id'\n",
    "* Obtain the list of movie_ids of watched movies with `get_watched_movies`\n",
    "* Drop from the relevant movies dataframe the watched movies\n",
    "\n",
    "<font size=\"-1\" color=\"gray\">(Remove this cell when delivering.)</font>"
   ]
  },
  {
   "cell_type": "markdown",
   "metadata": {},
   "source": [
    "<font size=\"+1\" color=\"red\">Replace this cell with your code implementing \"get_recommended_movies\"</font>"
   ]
  },
  {
   "cell_type": "markdown",
   "metadata": {},
   "source": [
    "<font size=\"+1\" color=\"red\">Replace this cell with your code to obtain the 10 most recommended movies for the users user_id_rom and user_id_sci</font>"
   ]
  },
  {
   "cell_type": "markdown",
   "metadata": {},
   "source": [
    "<font size=\"+1\" color=\"red\">Replace this cell with a brief commentary on these recommendations. Do you think they are relevant? Why or why not? After removing the movies the user has already watched, are the relevance scores of the remaining items comparable to the previous lists that contained all relevant movies?</font>"
   ]
  },
  {
   "cell_type": "markdown",
   "metadata": {},
   "source": [
    "# DELIVER (individually)\n",
    "\n",
    "Remember to read the section on \"delivering your code\" in the [course evaluation guidelines](https://github.com/chatox/data-mining-course/blob/master/upf/upf-evaluation.md).\n",
    "\n",
    "Deliver a zip file containing:\n",
    "\n",
    "* This notebook\n",
    "\n",
    "## Extra points available\n",
    "\n",
    "For more learning and extra points, use the [surprise](http://surpriselib.com/) library to generate recommendations for the same two users. Display the generated recommendations and comment on them.\n",
    "\n",
    "**Note:** if you go for the extra points, add ``<font size=\"+2\" color=\"blue\">Additional results: surprise library</font>`` at the top of your notebook.\n",
    "\n",
    "<font size=\"-1\" color=\"gray\">(Remove this cell when delivering.)</font>"
   ]
  },
  {
   "cell_type": "markdown",
   "metadata": {},
   "source": [
    "<font size=\"+2\" color=\"#003300\">I hereby declare that, except for the code provided by the course instructors, all of my code, report, and figures were produced by myself.</font>"
   ]
  }
 ],
 "metadata": {
  "kernelspec": {
   "display_name": "Python 3",
   "language": "python",
   "name": "python3"
  },
  "language_info": {
   "codemirror_mode": {
    "name": "ipython",
    "version": 3
   },
   "file_extension": ".py",
   "mimetype": "text/x-python",
   "name": "python",
   "nbconvert_exporter": "python",
   "pygments_lexer": "ipython3",
   "version": "3.8.10"
  }
 },
 "nbformat": 4,
 "nbformat_minor": 2
}
